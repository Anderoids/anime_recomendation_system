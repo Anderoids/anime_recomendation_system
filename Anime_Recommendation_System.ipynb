{
 "cells": [
  {
   "cell_type": "code",
   "execution_count": 1,
   "id": "b3ecb06e",
   "metadata": {},
   "outputs": [],
   "source": [
    "import pandas as pd\n",
    "import numpy as np\n",
    "import matplotlib.pyplot as plt\n",
    "import seaborn as sns\n",
    "from sklearn.feature_extraction.text import TfidfVectorizer\n",
    "from sklearn.metrics.pairwise import cosine_similarity"
   ]
  },
  {
   "cell_type": "code",
   "execution_count": 2,
   "id": "80809079",
   "metadata": {},
   "outputs": [],
   "source": [
    "anime_df = pd.read_csv(r\"C:\\Datasets\\animeRec\\anime.csv\")\n",
    "rating_df = pd.read_csv(r\"C:\\Datasets\\animeRec\\rating.csv\")"
   ]
  },
  {
   "cell_type": "code",
   "execution_count": 3,
   "id": "22e461d6",
   "metadata": {},
   "outputs": [
    {
     "data": {
      "text/html": [
       "<div>\n",
       "<style scoped>\n",
       "    .dataframe tbody tr th:only-of-type {\n",
       "        vertical-align: middle;\n",
       "    }\n",
       "\n",
       "    .dataframe tbody tr th {\n",
       "        vertical-align: top;\n",
       "    }\n",
       "\n",
       "    .dataframe thead th {\n",
       "        text-align: right;\n",
       "    }\n",
       "</style>\n",
       "<table border=\"1\" class=\"dataframe\">\n",
       "  <thead>\n",
       "    <tr style=\"text-align: right;\">\n",
       "      <th></th>\n",
       "      <th>anime_id</th>\n",
       "      <th>name</th>\n",
       "      <th>genre</th>\n",
       "      <th>type</th>\n",
       "      <th>episodes</th>\n",
       "      <th>rating</th>\n",
       "      <th>members</th>\n",
       "    </tr>\n",
       "  </thead>\n",
       "  <tbody>\n",
       "    <tr>\n",
       "      <th>0</th>\n",
       "      <td>32281</td>\n",
       "      <td>Kimi no Na wa.</td>\n",
       "      <td>Drama, Romance, School, Supernatural</td>\n",
       "      <td>Movie</td>\n",
       "      <td>1</td>\n",
       "      <td>9.37</td>\n",
       "      <td>200630</td>\n",
       "    </tr>\n",
       "    <tr>\n",
       "      <th>1</th>\n",
       "      <td>5114</td>\n",
       "      <td>Fullmetal Alchemist: Brotherhood</td>\n",
       "      <td>Action, Adventure, Drama, Fantasy, Magic, Mili...</td>\n",
       "      <td>TV</td>\n",
       "      <td>64</td>\n",
       "      <td>9.26</td>\n",
       "      <td>793665</td>\n",
       "    </tr>\n",
       "    <tr>\n",
       "      <th>2</th>\n",
       "      <td>28977</td>\n",
       "      <td>Gintama°</td>\n",
       "      <td>Action, Comedy, Historical, Parody, Samurai, S...</td>\n",
       "      <td>TV</td>\n",
       "      <td>51</td>\n",
       "      <td>9.25</td>\n",
       "      <td>114262</td>\n",
       "    </tr>\n",
       "    <tr>\n",
       "      <th>3</th>\n",
       "      <td>9253</td>\n",
       "      <td>Steins;Gate</td>\n",
       "      <td>Sci-Fi, Thriller</td>\n",
       "      <td>TV</td>\n",
       "      <td>24</td>\n",
       "      <td>9.17</td>\n",
       "      <td>673572</td>\n",
       "    </tr>\n",
       "    <tr>\n",
       "      <th>4</th>\n",
       "      <td>9969</td>\n",
       "      <td>Gintama&amp;#039;</td>\n",
       "      <td>Action, Comedy, Historical, Parody, Samurai, S...</td>\n",
       "      <td>TV</td>\n",
       "      <td>51</td>\n",
       "      <td>9.16</td>\n",
       "      <td>151266</td>\n",
       "    </tr>\n",
       "  </tbody>\n",
       "</table>\n",
       "</div>"
      ],
      "text/plain": [
       "   anime_id                              name  \\\n",
       "0     32281                    Kimi no Na wa.   \n",
       "1      5114  Fullmetal Alchemist: Brotherhood   \n",
       "2     28977                          Gintama°   \n",
       "3      9253                       Steins;Gate   \n",
       "4      9969                     Gintama&#039;   \n",
       "\n",
       "                                               genre   type episodes  rating  \\\n",
       "0               Drama, Romance, School, Supernatural  Movie        1    9.37   \n",
       "1  Action, Adventure, Drama, Fantasy, Magic, Mili...     TV       64    9.26   \n",
       "2  Action, Comedy, Historical, Parody, Samurai, S...     TV       51    9.25   \n",
       "3                                   Sci-Fi, Thriller     TV       24    9.17   \n",
       "4  Action, Comedy, Historical, Parody, Samurai, S...     TV       51    9.16   \n",
       "\n",
       "   members  \n",
       "0   200630  \n",
       "1   793665  \n",
       "2   114262  \n",
       "3   673572  \n",
       "4   151266  "
      ]
     },
     "execution_count": 3,
     "metadata": {},
     "output_type": "execute_result"
    }
   ],
   "source": [
    "anime_df.head()"
   ]
  },
  {
   "cell_type": "code",
   "execution_count": 4,
   "id": "7f2c211d",
   "metadata": {},
   "outputs": [
    {
     "data": {
      "text/html": [
       "<div>\n",
       "<style scoped>\n",
       "    .dataframe tbody tr th:only-of-type {\n",
       "        vertical-align: middle;\n",
       "    }\n",
       "\n",
       "    .dataframe tbody tr th {\n",
       "        vertical-align: top;\n",
       "    }\n",
       "\n",
       "    .dataframe thead th {\n",
       "        text-align: right;\n",
       "    }\n",
       "</style>\n",
       "<table border=\"1\" class=\"dataframe\">\n",
       "  <thead>\n",
       "    <tr style=\"text-align: right;\">\n",
       "      <th></th>\n",
       "      <th>user_id</th>\n",
       "      <th>anime_id</th>\n",
       "      <th>rating</th>\n",
       "    </tr>\n",
       "  </thead>\n",
       "  <tbody>\n",
       "    <tr>\n",
       "      <th>0</th>\n",
       "      <td>1</td>\n",
       "      <td>20</td>\n",
       "      <td>-1</td>\n",
       "    </tr>\n",
       "    <tr>\n",
       "      <th>1</th>\n",
       "      <td>1</td>\n",
       "      <td>24</td>\n",
       "      <td>-1</td>\n",
       "    </tr>\n",
       "    <tr>\n",
       "      <th>2</th>\n",
       "      <td>1</td>\n",
       "      <td>79</td>\n",
       "      <td>-1</td>\n",
       "    </tr>\n",
       "    <tr>\n",
       "      <th>3</th>\n",
       "      <td>1</td>\n",
       "      <td>226</td>\n",
       "      <td>-1</td>\n",
       "    </tr>\n",
       "    <tr>\n",
       "      <th>4</th>\n",
       "      <td>1</td>\n",
       "      <td>241</td>\n",
       "      <td>-1</td>\n",
       "    </tr>\n",
       "  </tbody>\n",
       "</table>\n",
       "</div>"
      ],
      "text/plain": [
       "   user_id  anime_id  rating\n",
       "0        1        20      -1\n",
       "1        1        24      -1\n",
       "2        1        79      -1\n",
       "3        1       226      -1\n",
       "4        1       241      -1"
      ]
     },
     "execution_count": 4,
     "metadata": {},
     "output_type": "execute_result"
    }
   ],
   "source": [
    "rating_df.head()"
   ]
  },
  {
   "cell_type": "code",
   "execution_count": 5,
   "id": "43a718f0",
   "metadata": {},
   "outputs": [
    {
     "data": {
      "text/plain": [
       "anime_id      0\n",
       "name          0\n",
       "genre        62\n",
       "type         25\n",
       "episodes      0\n",
       "rating      230\n",
       "members       0\n",
       "dtype: int64"
      ]
     },
     "execution_count": 5,
     "metadata": {},
     "output_type": "execute_result"
    }
   ],
   "source": [
    "anime_df.isnull().sum()"
   ]
  },
  {
   "cell_type": "code",
   "execution_count": 6,
   "id": "b8d557e0",
   "metadata": {},
   "outputs": [
    {
     "data": {
      "text/plain": [
       "user_id     0\n",
       "anime_id    0\n",
       "rating      0\n",
       "dtype: int64"
      ]
     },
     "execution_count": 6,
     "metadata": {},
     "output_type": "execute_result"
    }
   ],
   "source": [
    "rating_df.isnull().sum()"
   ]
  },
  {
   "cell_type": "code",
   "execution_count": 7,
   "id": "c1cf360d",
   "metadata": {},
   "outputs": [],
   "source": [
    "anime_df = anime_df.dropna(subset=['type', 'genre',])"
   ]
  },
  {
   "cell_type": "code",
   "execution_count": 8,
   "id": "ed4f94fd",
   "metadata": {},
   "outputs": [],
   "source": [
    "anime_df = anime_df[~anime_df['genre'].str.contains('henati', na=False)]"
   ]
  },
  {
   "cell_type": "code",
   "execution_count": 9,
   "id": "466d56ef",
   "metadata": {},
   "outputs": [],
   "source": [
    "anime_df['rating'] = anime_df['rating'].fillna(anime_df['rating'].mean())"
   ]
  },
  {
   "cell_type": "code",
   "execution_count": 10,
   "id": "01f9681c",
   "metadata": {},
   "outputs": [
    {
     "data": {
      "text/plain": [
       "anime_id    0\n",
       "name        0\n",
       "genre       0\n",
       "type        0\n",
       "episodes    0\n",
       "rating      0\n",
       "members     0\n",
       "dtype: int64"
      ]
     },
     "execution_count": 10,
     "metadata": {},
     "output_type": "execute_result"
    }
   ],
   "source": [
    "anime_df.isnull().sum()"
   ]
  },
  {
   "cell_type": "code",
   "execution_count": 11,
   "id": "06d5959e",
   "metadata": {},
   "outputs": [],
   "source": [
    "anime_df['genre'] = anime_df['genre'].str.lower().str.replace(',', ' |')"
   ]
  },
  {
   "cell_type": "code",
   "execution_count": 12,
   "id": "3e2be3e3",
   "metadata": {},
   "outputs": [
    {
     "data": {
      "text/html": [
       "<div>\n",
       "<style scoped>\n",
       "    .dataframe tbody tr th:only-of-type {\n",
       "        vertical-align: middle;\n",
       "    }\n",
       "\n",
       "    .dataframe tbody tr th {\n",
       "        vertical-align: top;\n",
       "    }\n",
       "\n",
       "    .dataframe thead th {\n",
       "        text-align: right;\n",
       "    }\n",
       "</style>\n",
       "<table border=\"1\" class=\"dataframe\">\n",
       "  <thead>\n",
       "    <tr style=\"text-align: right;\">\n",
       "      <th></th>\n",
       "      <th>name</th>\n",
       "      <th>genre</th>\n",
       "    </tr>\n",
       "  </thead>\n",
       "  <tbody>\n",
       "    <tr>\n",
       "      <th>0</th>\n",
       "      <td>Kimi no Na wa.</td>\n",
       "      <td>drama | romance | school | supernatural</td>\n",
       "    </tr>\n",
       "    <tr>\n",
       "      <th>1</th>\n",
       "      <td>Fullmetal Alchemist: Brotherhood</td>\n",
       "      <td>action | adventure | drama | fantasy | magic |...</td>\n",
       "    </tr>\n",
       "    <tr>\n",
       "      <th>2</th>\n",
       "      <td>Gintama°</td>\n",
       "      <td>action | comedy | historical | parody | samura...</td>\n",
       "    </tr>\n",
       "    <tr>\n",
       "      <th>3</th>\n",
       "      <td>Steins;Gate</td>\n",
       "      <td>sci-fi | thriller</td>\n",
       "    </tr>\n",
       "    <tr>\n",
       "      <th>4</th>\n",
       "      <td>Gintama&amp;#039;</td>\n",
       "      <td>action | comedy | historical | parody | samura...</td>\n",
       "    </tr>\n",
       "  </tbody>\n",
       "</table>\n",
       "</div>"
      ],
      "text/plain": [
       "                               name  \\\n",
       "0                    Kimi no Na wa.   \n",
       "1  Fullmetal Alchemist: Brotherhood   \n",
       "2                          Gintama°   \n",
       "3                       Steins;Gate   \n",
       "4                     Gintama&#039;   \n",
       "\n",
       "                                               genre  \n",
       "0            drama | romance | school | supernatural  \n",
       "1  action | adventure | drama | fantasy | magic |...  \n",
       "2  action | comedy | historical | parody | samura...  \n",
       "3                                  sci-fi | thriller  \n",
       "4  action | comedy | historical | parody | samura...  "
      ]
     },
     "execution_count": 12,
     "metadata": {},
     "output_type": "execute_result"
    }
   ],
   "source": [
    "anime_df[['name', 'genre']].head()"
   ]
  },
  {
   "cell_type": "code",
   "execution_count": 13,
   "id": "c09a7443",
   "metadata": {},
   "outputs": [],
   "source": [
    "anime_df = anime_df.drop_duplicates(subset=['name'], keep='first')\n"
   ]
  },
  {
   "cell_type": "code",
   "execution_count": 14,
   "id": "dbaf72bb",
   "metadata": {},
   "outputs": [
    {
     "data": {
      "text/html": [
       "<div>\n",
       "<style scoped>\n",
       "    .dataframe tbody tr th:only-of-type {\n",
       "        vertical-align: middle;\n",
       "    }\n",
       "\n",
       "    .dataframe tbody tr th {\n",
       "        vertical-align: top;\n",
       "    }\n",
       "\n",
       "    .dataframe thead th {\n",
       "        text-align: right;\n",
       "    }\n",
       "</style>\n",
       "<table border=\"1\" class=\"dataframe\">\n",
       "  <thead>\n",
       "    <tr style=\"text-align: right;\">\n",
       "      <th></th>\n",
       "      <th>name</th>\n",
       "      <th>rating</th>\n",
       "      <th>normalized_rating</th>\n",
       "    </tr>\n",
       "  </thead>\n",
       "  <tbody>\n",
       "    <tr>\n",
       "      <th>0</th>\n",
       "      <td>Kimi no Na wa.</td>\n",
       "      <td>9.37</td>\n",
       "      <td>0.924370</td>\n",
       "    </tr>\n",
       "    <tr>\n",
       "      <th>1</th>\n",
       "      <td>Fullmetal Alchemist: Brotherhood</td>\n",
       "      <td>9.26</td>\n",
       "      <td>0.911164</td>\n",
       "    </tr>\n",
       "    <tr>\n",
       "      <th>2</th>\n",
       "      <td>Gintama°</td>\n",
       "      <td>9.25</td>\n",
       "      <td>0.909964</td>\n",
       "    </tr>\n",
       "    <tr>\n",
       "      <th>3</th>\n",
       "      <td>Steins;Gate</td>\n",
       "      <td>9.17</td>\n",
       "      <td>0.900360</td>\n",
       "    </tr>\n",
       "    <tr>\n",
       "      <th>4</th>\n",
       "      <td>Gintama&amp;#039;</td>\n",
       "      <td>9.16</td>\n",
       "      <td>0.899160</td>\n",
       "    </tr>\n",
       "  </tbody>\n",
       "</table>\n",
       "</div>"
      ],
      "text/plain": [
       "                               name  rating  normalized_rating\n",
       "0                    Kimi no Na wa.    9.37           0.924370\n",
       "1  Fullmetal Alchemist: Brotherhood    9.26           0.911164\n",
       "2                          Gintama°    9.25           0.909964\n",
       "3                       Steins;Gate    9.17           0.900360\n",
       "4                     Gintama&#039;    9.16           0.899160"
      ]
     },
     "execution_count": 14,
     "metadata": {},
     "output_type": "execute_result"
    }
   ],
   "source": [
    "from sklearn.preprocessing import MinMaxScaler\n",
    "\n",
    "scaler = MinMaxScaler()\n",
    "anime_df['normalized_rating'] = scaler.fit_transform(anime_df[['rating']])\n",
    "\n",
    "anime_df[['name', 'rating', 'normalized_rating']].head()"
   ]
  },
  {
   "cell_type": "code",
   "execution_count": 15,
   "id": "d1c4adba",
   "metadata": {
    "scrolled": true
   },
   "outputs": [
    {
     "name": "stdout",
     "output_type": "stream",
     "text": [
      "<class 'pandas.core.frame.DataFrame'>\n",
      "Index: 12208 entries, 0 to 12293\n",
      "Data columns (total 8 columns):\n",
      " #   Column             Non-Null Count  Dtype  \n",
      "---  ------             --------------  -----  \n",
      " 0   anime_id           12208 non-null  int64  \n",
      " 1   name               12208 non-null  object \n",
      " 2   genre              12208 non-null  object \n",
      " 3   type               12208 non-null  object \n",
      " 4   episodes           12208 non-null  object \n",
      " 5   rating             12208 non-null  float64\n",
      " 6   members            12208 non-null  int64  \n",
      " 7   normalized_rating  12208 non-null  float64\n",
      "dtypes: float64(2), int64(2), object(4)\n",
      "memory usage: 858.4+ KB\n"
     ]
    }
   ],
   "source": [
    "anime_df.info()"
   ]
  },
  {
   "cell_type": "code",
   "execution_count": 17,
   "id": "1de01f12",
   "metadata": {},
   "outputs": [
    {
     "name": "stdout",
     "output_type": "stream",
     "text": [
      "<class 'pandas.core.frame.DataFrame'>\n",
      "RangeIndex: 7813737 entries, 0 to 7813736\n",
      "Data columns (total 3 columns):\n",
      " #   Column    Dtype\n",
      "---  ------    -----\n",
      " 0   user_id   int64\n",
      " 1   anime_id  int64\n",
      " 2   rating    int64\n",
      "dtypes: int64(3)\n",
      "memory usage: 178.8 MB\n"
     ]
    }
   ],
   "source": [
    "rating_df.info()"
   ]
  },
  {
   "cell_type": "code",
   "execution_count": 16,
   "id": "0267dc7a",
   "metadata": {},
   "outputs": [],
   "source": [
    "tfidf = TfidfVectorizer(stop_words='english')\n",
    "tfidf_matrix = tfidf.fit_transform(anime_df['genre'])\n",
    "tfidf_df = pd.DataFrame(tfidf_matrix.toarray(), index=anime_df['name'], columns=tfidf.get_feature_names_out())"
   ]
  },
  {
   "cell_type": "code",
   "execution_count": 18,
   "id": "0ddd46cc",
   "metadata": {},
   "outputs": [
    {
     "data": {
      "image/png": "[encoded data removed]",
      "text/plain": [
       "<Figure size 1200x600 with 2 Axes>"
      ]
     },
     "metadata": {},
     "output_type": "display_data"
    }
   ],
   "source": [
    "from wordcloud import WordCloud\n"
   ]
  },
  {
   "cell_type": "code",
   "execution_count": 17,
   "id": "e956cb29",
   "metadata": {},
   "outputs": [],
   "source": [
    "cosine_sim = cosine_similarity(tfidf_matrix, tfidf_matrix)"
   ]
  },
  {
   "cell_type": "code",
   "execution_count": 18,
   "id": "e9014d86",
   "metadata": {},
   "outputs": [
    {
     "data": {
      "text/html": [
       "<div>\n",
       "<style scoped>\n",
       "    .dataframe tbody tr th:only-of-type {\n",
       "        vertical-align: middle;\n",
       "    }\n",
       "\n",
       "    .dataframe tbody tr th {\n",
       "        vertical-align: top;\n",
       "    }\n",
       "\n",
       "    .dataframe thead th {\n",
       "        text-align: right;\n",
       "    }\n",
       "</style>\n",
       "<table border=\"1\" class=\"dataframe\">\n",
       "  <thead>\n",
       "    <tr style=\"text-align: right;\">\n",
       "      <th></th>\n",
       "      <th>name</th>\n",
       "      <th>genre</th>\n",
       "    </tr>\n",
       "  </thead>\n",
       "  <tbody>\n",
       "    <tr>\n",
       "      <th>615</th>\n",
       "      <td>Naruto: Shippuuden</td>\n",
       "      <td>action | comedy | martial arts | shounen | sup...</td>\n",
       "    </tr>\n",
       "    <tr>\n",
       "      <th>841</th>\n",
       "      <td>Naruto</td>\n",
       "      <td>action | comedy | martial arts | shounen | sup...</td>\n",
       "    </tr>\n",
       "    <tr>\n",
       "      <th>1103</th>\n",
       "      <td>Boruto: Naruto the Movie - Naruto ga Hokage ni...</td>\n",
       "      <td>action | comedy | martial arts | shounen | sup...</td>\n",
       "    </tr>\n",
       "    <tr>\n",
       "      <th>1343</th>\n",
       "      <td>Naruto x UT</td>\n",
       "      <td>action | comedy | martial arts | shounen | sup...</td>\n",
       "    </tr>\n",
       "    <tr>\n",
       "      <th>1472</th>\n",
       "      <td>Naruto: Shippuuden Movie 4 - The Lost Tower</td>\n",
       "      <td>action | comedy | martial arts | shounen | sup...</td>\n",
       "    </tr>\n",
       "  </tbody>\n",
       "</table>\n",
       "</div>"
      ],
      "text/plain": [
       "                                                   name  \\\n",
       "615                                  Naruto: Shippuuden   \n",
       "841                                              Naruto   \n",
       "1103  Boruto: Naruto the Movie - Naruto ga Hokage ni...   \n",
       "1343                                        Naruto x UT   \n",
       "1472        Naruto: Shippuuden Movie 4 - The Lost Tower   \n",
       "\n",
       "                                                  genre  \n",
       "615   action | comedy | martial arts | shounen | sup...  \n",
       "841   action | comedy | martial arts | shounen | sup...  \n",
       "1103  action | comedy | martial arts | shounen | sup...  \n",
       "1343  action | comedy | martial arts | shounen | sup...  \n",
       "1472  action | comedy | martial arts | shounen | sup...  "
      ]
     },
     "execution_count": 18,
     "metadata": {},
     "output_type": "execute_result"
    }
   ],
   "source": [
    "def recommend_anime(title, df, cosine_sim):\n",
    "    if title not in df['name'].values:\n",
    "        return \"Anime not found. Please try another title.\"\n",
    "\n",
    "    idx = df[df['name'] == title].index[0] \n",
    "    sim_scores = list(enumerate(cosine_sim[idx]))  \n",
    "    sim_scores = sorted(sim_scores, key=lambda x: x[1], reverse=True)[1:6]  \n",
    "    anime_indices = [i[0] for i in sim_scores]  \n",
    "    \n",
    "    return df.iloc[anime_indices][['name', 'genre']]\n",
    "\n",
    "# Example Usage\n",
    "recommend_anime(\"Naruto\", anime_df, cosine_sim)\n"
   ]
  },
  {
   "cell_type": "code",
   "execution_count": 19,
   "id": "2a729d0b",
   "metadata": {},
   "outputs": [],
   "source": [
    "from surprise import Dataset, Reader\n",
    "reader = Reader(rating_scale=(1, 10))\n",
    "data = Dataset.load_from_df(rating_df[['user_id', 'anime_id', 'rating']], reader)\n"
   ]
  },
  {
   "cell_type": "code",
   "execution_count": 20,
   "id": "0b4decaa",
   "metadata": {},
   "outputs": [],
   "source": [
    "from surprise import SVD\n",
    "from surprise.model_selection import cross_validate"
   ]
  },
  {
   "cell_type": "code",
   "execution_count": 21,
   "id": "c58daa86",
   "metadata": {},
   "outputs": [],
   "source": [
    "model = SVD()"
   ]
  },
  {
   "cell_type": "code",
   "execution_count": 22,
   "id": "8936fe5f",
   "metadata": {},
   "outputs": [
    {
     "name": "stdout",
     "output_type": "stream",
     "text": [
      "Evaluating RMSE, MAE of algorithm SVD on 2 split(s).\n",
      "\n",
      "                  Fold 1  Fold 2  Mean    Std     \n",
      "RMSE (testset)    2.2828  2.2821  2.2825  0.0003  \n",
      "MAE (testset)     1.6056  1.6065  1.6061  0.0004  \n",
      "Fit time          58.24   52.75   55.49   2.74    \n",
      "Test time         29.02   24.98   27.00   2.02    \n"
     ]
    },
    {
     "data": {
      "text/plain": [
       "{'test_rmse': array([2.28281562, 2.28214608]),\n",
       " 'test_mae': array([1.60564424, 1.60649763]),\n",
       " 'fit_time': (58.23585510253906, 52.75153684616089),\n",
       " 'test_time': (29.017154216766357, 24.981675148010254)}"
      ]
     },
     "execution_count": 22,
     "metadata": {},
     "output_type": "execute_result"
    }
   ],
   "source": [
    "cross_validate(model, data, cv=2, verbose=True)"
   ]
  },
  {
   "cell_type": "code",
   "execution_count": 23,
   "id": "5eaabb58",
   "metadata": {},
   "outputs": [],
   "source": [
    "from surprise.model_selection import train_test_split "
   ]
  },
  {
   "cell_type": "code",
   "execution_count": 24,
   "id": "70def0f9",
   "metadata": {},
   "outputs": [],
   "source": [
    "# Split dataset into train and test sets\n",
    "trainset, testset = train_test_split(data, test_size=0.2)"
   ]
  },
  {
   "cell_type": "code",
   "execution_count": 25,
   "id": "c3348485",
   "metadata": {},
   "outputs": [],
   "source": [
    "\n",
    "# Train model on trainset\n",
    "model.fit(trainset)\n",
    "predictions = model.test(testset)\n"
   ]
  },
  {
   "cell_type": "code",
   "execution_count": 26,
   "id": "ae5a91f3",
   "metadata": {},
   "outputs": [
    {
     "data": {
      "text/html": [
       "<div>\n",
       "<style scoped>\n",
       "    .dataframe tbody tr th:only-of-type {\n",
       "        vertical-align: middle;\n",
       "    }\n",
       "\n",
       "    .dataframe tbody tr th {\n",
       "        vertical-align: top;\n",
       "    }\n",
       "\n",
       "    .dataframe thead th {\n",
       "        text-align: right;\n",
       "    }\n",
       "</style>\n",
       "<table border=\"1\" class=\"dataframe\">\n",
       "  <thead>\n",
       "    <tr style=\"text-align: right;\">\n",
       "      <th></th>\n",
       "      <th>anime_id</th>\n",
       "      <th>name</th>\n",
       "      <th>genre</th>\n",
       "    </tr>\n",
       "  </thead>\n",
       "  <tbody>\n",
       "    <tr>\n",
       "      <th>3548</th>\n",
       "      <td>32741</td>\n",
       "      <td>Girls und Panzer der Film: Fushou - Akiyama Yu...</td>\n",
       "      <td>military | school</td>\n",
       "    </tr>\n",
       "    <tr>\n",
       "      <th>6178</th>\n",
       "      <td>31676</td>\n",
       "      <td>Persona 2: Another Self</td>\n",
       "      <td>action | demons | fantasy | supernatural</td>\n",
       "    </tr>\n",
       "    <tr>\n",
       "      <th>7046</th>\n",
       "      <td>4042</td>\n",
       "      <td>Hanappe Bazooka</td>\n",
       "      <td>action | comedy | ecchi | magic | school</td>\n",
       "    </tr>\n",
       "    <tr>\n",
       "      <th>7596</th>\n",
       "      <td>4390</td>\n",
       "      <td>Sora no Momotarou</td>\n",
       "      <td>adventure | comedy | military</td>\n",
       "    </tr>\n",
       "    <tr>\n",
       "      <th>7958</th>\n",
       "      <td>6851</td>\n",
       "      <td>Kaitei no Boukun</td>\n",
       "      <td>adventure</td>\n",
       "    </tr>\n",
       "  </tbody>\n",
       "</table>\n",
       "</div>"
      ],
      "text/plain": [
       "      anime_id                                               name  \\\n",
       "3548     32741  Girls und Panzer der Film: Fushou - Akiyama Yu...   \n",
       "6178     31676                            Persona 2: Another Self   \n",
       "7046      4042                                    Hanappe Bazooka   \n",
       "7596      4390                                  Sora no Momotarou   \n",
       "7958      6851                                   Kaitei no Boukun   \n",
       "\n",
       "                                         genre  \n",
       "3548                         military | school  \n",
       "6178  action | demons | fantasy | supernatural  \n",
       "7046  action | comedy | ecchi | magic | school  \n",
       "7596             adventure | comedy | military  \n",
       "7958                                 adventure  "
      ]
     },
     "execution_count": 26,
     "metadata": {},
     "output_type": "execute_result"
    }
   ],
   "source": [
    "from collections import defaultdict\n",
    "\n",
    "def get_top_recommendations(user_id, model, anime_df, n=5):\n",
    "    anime_ids = anime_df['anime_id'].unique()  # Get all anime IDs\n",
    "    user_rated = rating_df[rating_df['user_id'] == user_id]['anime_id']  # Anime user has rated\n",
    "    unseen_anime = set(anime_ids) - set(user_rated)  # Find unseen anime\n",
    "\n",
    "    predictions = [model.predict(user_id, anime_id) for anime_id in unseen_anime]\n",
    "    predictions.sort(key=lambda x: x.est, reverse=True)  # Sort by predicted rating\n",
    "\n",
    "    top_anime = [anime_id for anime_id in predictions[:n]]\n",
    "    \n",
    "    recommended_titles = anime_df[anime_df['anime_id'].isin([p.iid for p in top_anime])]\n",
    "    return recommended_titles[['anime_id', 'name', 'genre']]\n",
    "\n",
    "get_top_recommendations(user_id=1, model=model, anime_df=anime_df, n=5)\n"
   ]
  },
  {
   "cell_type": "code",
   "execution_count": 27,
   "id": "b68ef69e",
   "metadata": {},
   "outputs": [
    {
     "data": {
      "text/html": [
       "<div>\n",
       "<style scoped>\n",
       "    .dataframe tbody tr th:only-of-type {\n",
       "        vertical-align: middle;\n",
       "    }\n",
       "\n",
       "    .dataframe tbody tr th {\n",
       "        vertical-align: top;\n",
       "    }\n",
       "\n",
       "    .dataframe thead th {\n",
       "        text-align: right;\n",
       "    }\n",
       "</style>\n",
       "<table border=\"1\" class=\"dataframe\">\n",
       "  <thead>\n",
       "    <tr style=\"text-align: right;\">\n",
       "      <th></th>\n",
       "      <th>name</th>\n",
       "      <th>genre</th>\n",
       "    </tr>\n",
       "  </thead>\n",
       "  <tbody>\n",
       "    <tr>\n",
       "      <th>3548</th>\n",
       "      <td>Girls und Panzer der Film: Fushou - Akiyama Yu...</td>\n",
       "      <td>military | school</td>\n",
       "    </tr>\n",
       "    <tr>\n",
       "      <th>6178</th>\n",
       "      <td>Persona 2: Another Self</td>\n",
       "      <td>action | demons | fantasy | supernatural</td>\n",
       "    </tr>\n",
       "    <tr>\n",
       "      <th>7046</th>\n",
       "      <td>Hanappe Bazooka</td>\n",
       "      <td>action | comedy | ecchi | magic | school</td>\n",
       "    </tr>\n",
       "    <tr>\n",
       "      <th>7596</th>\n",
       "      <td>Sora no Momotarou</td>\n",
       "      <td>adventure | comedy | military</td>\n",
       "    </tr>\n",
       "    <tr>\n",
       "      <th>7958</th>\n",
       "      <td>Kaitei no Boukun</td>\n",
       "      <td>adventure</td>\n",
       "    </tr>\n",
       "  </tbody>\n",
       "</table>\n",
       "</div>"
      ],
      "text/plain": [
       "                                                   name  \\\n",
       "3548  Girls und Panzer der Film: Fushou - Akiyama Yu...   \n",
       "6178                            Persona 2: Another Self   \n",
       "7046                                    Hanappe Bazooka   \n",
       "7596                                  Sora no Momotarou   \n",
       "7958                                   Kaitei no Boukun   \n",
       "\n",
       "                                         genre  \n",
       "3548                         military | school  \n",
       "6178  action | demons | fantasy | supernatural  \n",
       "7046  action | comedy | ecchi | magic | school  \n",
       "7596             adventure | comedy | military  \n",
       "7958                                 adventure  "
      ]
     },
     "execution_count": 27,
     "metadata": {},
     "output_type": "execute_result"
    }
   ],
   "source": [
    "def hybrid_recommend(user_id, anime_name, n=5):\n",
    "    \"\"\"Returns hybrid recommendations combining CF & CBF\"\"\"\n",
    "    \n",
    "    # Check if the user exists\n",
    "    user_rated_anime = rating_df[rating_df['user_id'] == user_id]['anime_id']\n",
    "    \n",
    "    if not user_rated_anime.empty:\n",
    "        # Use Collaborative Filtering (CF)\n",
    "        anime_ids = anime_df['anime_id'].unique()\n",
    "        predictions = [model.predict(user_id, anime_id) for anime_id in anime_ids if anime_id not in user_rated_anime]\n",
    "        predictions.sort(key=lambda x: x.est, reverse=True)\n",
    "        top_cf_anime = [anime_id for anime_id in predictions[:n]]\n",
    "        \n",
    "        return anime_df[anime_df['anime_id'].isin([p.iid for p in top_cf_anime])][['name', 'genre']]\n",
    "    \n",
    "    else:\n",
    "        # Use Content-Based Filtering (CBF)\n",
    "        if anime_name not in cosine_sim_df.index:\n",
    "            return \"Anime not found.\"\n",
    "        \n",
    "        # Get similar anime using cosine similarity\n",
    "        similar_anime = cosine_sim_df[anime_name].sort_values(ascending=False).iloc[1:n+1]\n",
    "        return similar_anime.index.tolist()\n",
    "\n",
    "# Example Usage\n",
    "hybrid_recommend(user_id=1, anime_name=\"Naruto\", n=5)\n"
   ]
  },
  {
   "cell_type": "code",
   "execution_count": 41,
   "id": "d81a4e0c",
   "metadata": {},
   "outputs": [
    {
     "data": {
      "application/vnd.jupyter.widget-view+json": {
       "model_id": "545301bf49364b1fa4903bf458403c44",
       "version_major": 2,
       "version_minor": 0
      },
      "text/plain": [
       "IntText(value=15, description='User ID:')"
      ]
     },
     "metadata": {},
     "output_type": "display_data"
    },
    {
     "data": {
      "application/vnd.jupyter.widget-view+json": {
       "model_id": "d9a14284e5d0496f80b926782116bd93",
       "version_major": 2,
       "version_minor": 0
      },
      "text/plain": [
       "Text(value='Hunter x Hunter ', description='Anime:')"
      ]
     },
     "metadata": {},
     "output_type": "display_data"
    },
    {
     "data": {
      "application/vnd.jupyter.widget-view+json": {
       "model_id": "4e5f860172fe417cb08951e202fe2de9",
       "version_major": 2,
       "version_minor": 0
      },
      "text/plain": [
       "Button(description='Get Recommendations', style=ButtonStyle())"
      ]
     },
     "metadata": {},
     "output_type": "display_data"
    },
    {
     "data": {
      "application/vnd.jupyter.widget-view+json": {
       "model_id": "1086bf0ef7574155975625c16a46668a",
       "version_major": 2,
       "version_minor": 0
      },
      "text/plain": [
       "HTML(value='<h3>🎯 Recommended Anime:</h3>')"
      ]
     },
     "metadata": {},
     "output_type": "display_data"
    },
    {
     "data": {
      "text/html": [
       "<div>\n",
       "<style scoped>\n",
       "    .dataframe tbody tr th:only-of-type {\n",
       "        vertical-align: middle;\n",
       "    }\n",
       "\n",
       "    .dataframe tbody tr th {\n",
       "        vertical-align: top;\n",
       "    }\n",
       "\n",
       "    .dataframe thead th {\n",
       "        text-align: right;\n",
       "    }\n",
       "</style>\n",
       "<table border=\"1\" class=\"dataframe\">\n",
       "  <thead>\n",
       "    <tr style=\"text-align: right;\">\n",
       "      <th></th>\n",
       "      <th>name</th>\n",
       "      <th>genre</th>\n",
       "    </tr>\n",
       "  </thead>\n",
       "  <tbody>\n",
       "    <tr>\n",
       "      <th>14</th>\n",
       "      <td>Haikyuu!! Second Season</td>\n",
       "      <td>comedy | drama | school | shounen | sports</td>\n",
       "    </tr>\n",
       "    <tr>\n",
       "      <th>68</th>\n",
       "      <td>Shouwa Genroku Rakugo Shinjuu</td>\n",
       "      <td>drama | historical | josei</td>\n",
       "    </tr>\n",
       "    <tr>\n",
       "      <th>129</th>\n",
       "      <td>Kizumonogatari I: Tekketsu-hen</td>\n",
       "      <td>mystery | supernatural | vampire</td>\n",
       "    </tr>\n",
       "    <tr>\n",
       "      <th>242</th>\n",
       "      <td>Osomatsu-san</td>\n",
       "      <td>comedy | parody</td>\n",
       "    </tr>\n",
       "    <tr>\n",
       "      <th>1367</th>\n",
       "      <td>Shashinkan</td>\n",
       "      <td>drama | historical | slice of life</td>\n",
       "    </tr>\n",
       "  </tbody>\n",
       "</table>\n",
       "</div>"
      ],
      "text/plain": [
       "                                name  \\\n",
       "14           Haikyuu!! Second Season   \n",
       "68     Shouwa Genroku Rakugo Shinjuu   \n",
       "129   Kizumonogatari I: Tekketsu-hen   \n",
       "242                     Osomatsu-san   \n",
       "1367                      Shashinkan   \n",
       "\n",
       "                                           genre  \n",
       "14    comedy | drama | school | shounen | sports  \n",
       "68                    drama | historical | josei  \n",
       "129             mystery | supernatural | vampire  \n",
       "242                              comedy | parody  \n",
       "1367          drama | historical | slice of life  "
      ]
     },
     "metadata": {},
     "output_type": "display_data"
    },
    {
     "name": "stderr",
     "output_type": "stream",
     "text": [
      "C:\\Users\\manas\\anaconda3\\Lib\\site-packages\\IPython\\core\\pylabtools.py:152: UserWarning: Glyph 128200 (\\N{CHART WITH UPWARDS TREND}) missing from current font.\n",
      "  fig.canvas.print_figure(bytes_io, **kw)\n"
     ]
    },
    {
     "data": {
      "image/png": "[encoded data removed]",
      "text/plain": [
       "<Figure size 800x400 with 1 Axes>"
      ]
     },
     "metadata": {},
     "output_type": "display_data"
    },
    {
     "name": "stderr",
     "output_type": "stream",
     "text": [
      "C:\\Users\\manas\\anaconda3\\Lib\\site-packages\\IPython\\core\\pylabtools.py:152: UserWarning: Glyph 128202 (\\N{BAR CHART}) missing from current font.\n",
      "  fig.canvas.print_figure(bytes_io, **kw)\n"
     ]
    },
    {
     "data": {
      "image/png": "[encoded data removed]",
      "text/plain": [
       "<Figure size 600x300 with 1 Axes>"
      ]
     },
     "metadata": {},
     "output_type": "display_data"
    },
    {
     "data": {
      "application/vnd.jupyter.widget-view+json": {
       "model_id": "b8ec8cd8eb6544038a7476f9ab762b35",
       "version_major": 2,
       "version_minor": 0
      },
      "text/plain": [
       "IntText(value=1, description='User ID:')"
      ]
     },
     "metadata": {},
     "output_type": "display_data"
    },
    {
     "data": {
      "application/vnd.jupyter.widget-view+json": {
       "model_id": "374b9dbaaacb41d8916c3f7e727a66f3",
       "version_major": 2,
       "version_minor": 0
      },
      "text/plain": [
       "Text(value='Naruto', description='Anime:')"
      ]
     },
     "metadata": {},
     "output_type": "display_data"
    },
    {
     "data": {
      "application/vnd.jupyter.widget-view+json": {
       "model_id": "1b52a60e5f7545769ba4bbd8c1423dcf",
       "version_major": 2,
       "version_minor": 0
      },
      "text/plain": [
       "Button(description='Get Recommendations', style=ButtonStyle())"
      ]
     },
     "metadata": {},
     "output_type": "display_data"
    }
   ],
   "source": [
    "import ipywidgets as widgets\n",
    "import matplotlib.pyplot as plt\n",
    "import seaborn as sns\n",
    "from IPython.display import display, clear_output\n",
    "\n",
    "# Create interactive widgets\n",
    "user_id_widget = widgets.IntText(value=1, description=\"User ID:\")\n",
    "anime_name_widget = widgets.Text(value=\"Naruto\", description=\"Anime:\")\n",
    "button = widgets.Button(description=\"Get Recommendations\")\n",
    "\n",
    "# Function to update the dashboard\n",
    "def update_dashboard(b):\n",
    "    clear_output(wait=True)  # Clear previous outputs\n",
    "    display(user_id_widget, anime_name_widget, button)  # Re-display widgets\n",
    "\n",
    "    # Get user input\n",
    "    user_id = user_id_widget.value\n",
    "    anime_name = anime_name_widget.value\n",
    "\n",
    "    # Display recommendations\n",
    "    display(widgets.HTML(\"<h3>🎯 Recommended Anime:</h3>\"))\n",
    "    display(hybrid_recommend(user_id, anime_name, n=5))  \n",
    "\n",
    "    # Top Rated Anime\n",
    "    top_anime = anime_df.nlargest(10, \"rating\")\n",
    "    plt.figure(figsize=(8, 4))\n",
    "    sns.barplot(x=\"rating\", y=\"name\", data=top_anime, palette=\"coolwarm\")\n",
    "    plt.xlabel(\"Rating\")\n",
    "    plt.ylabel(\"Anime\")\n",
    "    plt.title(\"📈 Top Rated Anime\")\n",
    "    plt.show()\n",
    "\n",
    "    # User Rating Distribution\n",
    "    plt.figure(figsize=(6, 3))\n",
    "    sns.histplot(rating_df[\"rating\"], bins=10, kde=True, color=\"blue\")\n",
    "    plt.xlabel(\"Rating\")\n",
    "    plt.ylabel(\"Count\")\n",
    "    plt.title(\"📊 User Rating Distribution\")\n",
    "    plt.show()\n",
    "\n",
    "# Attach button click event\n",
    "button.on_click(update_dashboard)\n",
    "\n",
    "# Display widgets\n",
    "display(user_id_widget, anime_name_widget, button)\n"
   ]
  },
  {
   "cell_type": "code",
   "execution_count": 40,
   "id": "21d06080",
   "metadata": {},
   "outputs": [
    {
     "name": "stderr",
     "output_type": "stream",
     "text": [
      "C:\\Users\\manas\\anaconda3\\Lib\\site-packages\\IPython\\core\\pylabtools.py:152: UserWarning: Glyph 128293 (\\N{FIRE}) missing from current font.\n",
      "  fig.canvas.print_figure(bytes_io, **kw)\n"
     ]
    },
    {
     "data": {
      "image/png": "[encoded data removed]",
      "text/plain": [
       "<Figure size 800x400 with 1 Axes>"
      ]
     },
     "metadata": {},
     "output_type": "display_data"
    }
   ],
   "source": [
    "import matplotlib.pyplot as plt\n",
    "import seaborn as sns\n",
    "import pandas as pd\n",
    "\n",
    "def plot_top_5_recommendations(user_id, anime_name, n=5):\n",
    "    \"\"\"Visualize Top 5 Hybrid Recommendations\"\"\"\n",
    "    \n",
    "    recommendations = hybrid_recommend(user_id, anime_name, n)\n",
    "    \n",
    "    # Handle different outputs from CF and CBF\n",
    "    if isinstance(recommendations, list):  # CBF Output\n",
    "        recommended_anime = pd.DataFrame({\"Anime\": recommendations, \"Score\": range(n, 0, -1)})\n",
    "    else:  # CF Output (DataFrame with ratings)\n",
    "        recommended_anime = recommendations.rename(columns={\"name\": \"Anime\"}).copy()\n",
    "        recommended_anime[\"Score\"] = range(n, 0, -1)  # Ranking scores for visualization\n",
    "    \n",
    "    # 📊 Create the Bar Plot\n",
    "    plt.figure(figsize=(8, 4))\n",
    "    sns.barplot(x=\"Score\", y=\"Anime\", data=recommended_anime, palette=\"coolwarm\", orient=\"h\")\n",
    "    plt.xlabel(\"Recommendation Rank\")\n",
    "    plt.ylabel(\"Anime Name\")\n",
    "    plt.title(f\"🔥 Top {n} Hybrid Recommended Anime\")\n",
    "    plt.gca().invert_xaxis()  # Invert to show Rank 1 at the top\n",
    "    plt.show()\n",
    "\n",
    "# Example Usage:\n",
    "plot_top_5_recommendations(user_id=10, anime_name=\"Haikyuu!!\", n=5)\n"
   ]
  },
  {
   "cell_type": "code",
   "execution_count": null,
   "id": "269b788c",
   "metadata": {},
   "outputs": [],
   "source": []
  }
 ],
 "metadata": {
  "kernelspec": {
   "display_name": "Python 3 (ipykernel)",
   "language": "python",
   "name": "python3"
  },
  "language_info": {
   "codemirror_mode": {
    "name": "ipython",
    "version": 3
   },
   "file_extension": ".py",
   "mimetype": "text/x-python",
   "name": "python",
   "nbconvert_exporter": "python",
   "pygments_lexer": "ipython3",
   "version": "3.11.5"
  }
 },
 "nbformat": 4,
 "nbformat_minor": 5
}
